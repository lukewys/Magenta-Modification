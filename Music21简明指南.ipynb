{
 "cells": [
  {
   "cell_type": "markdown",
   "metadata": {},
   "source": [
    "# music21简明指南"
   ]
  },
  {
   "cell_type": "markdown",
   "metadata": {},
   "source": [
    "`music21`是一个由MIT开发的功能强大的计算音乐学分析Python库。相比于`pretty_midi`库只能处理MIDI文件，`music21`可以处理包括MusicXML，MIDI，abc等多种格式的音乐文件，并可以从零开始构建音乐文件或对音乐进行分析。\n",
    "\n",
    "在搜索引擎中搜索music21，大概率会被引导到这个网址：<https://web.mit.edu/music21/>。我在初次接触`music21`时看到这个网页感觉版面杂乱，不知何从下手。但是，进入右侧的[Get Started with music21](https://web.mit.edu/music21/doc/about/what.html)，并一步步查看[教程](https://web.mit.edu/music21/doc/usersGuide/index.html)，这时结构就清晰了许多，并且一步一步由浅入深阅读就可掌握`music21`的使用方法了。\n",
    "\n",
    "`music21`[官方教程](https://web.mit.edu/music21/doc/usersGuide/index.html)其实介绍相当详尽易懂，教程中由浅入深介绍了`music21`的各个模块和使用方式。即使你对Python不甚了解，直接阅读官方教程也不会特别吃力，因为教程中有针对Python特性以及使用方法的介绍。\n",
    "\n",
    "唯一的缺点是官方教程过于冗长，共有58章，每章也很长。如果需要快速上手，生成一份音乐文件，那一步步阅读教程所耗费的时间就过长了。因此，本文介绍了一些简单功能，足以使读者在短时间内使用`music21`生成需要的音乐文件，并令读者概略了解`music21`的使用方式。本文中大部分内容是从`music21`[官方教程](https://web.mit.edu/music21/doc/usersGuide/index.html)中摘录而来，并假设读者对Python有简单的了解。"
   ]
  },
  {
   "cell_type": "markdown",
   "metadata": {},
   "source": [
    "首先，导入`music21`包，在这里我们使用官方教程中的习惯对music21包进行全部加载，但使用时建议通过`import music21`进行导入以避免污染命名空间。`music21`可以很方便的使用`pip install music21`安装。"
   ]
  },
  {
   "cell_type": "code",
   "execution_count": 1,
   "metadata": {
    "ExecuteTime": {
     "end_time": "2019-07-14T11:01:36.375432Z",
     "start_time": "2019-07-14T11:01:35.675276Z"
    }
   },
   "outputs": [],
   "source": [
    "from music21 import *"
   ]
  },
  {
   "cell_type": "markdown",
   "metadata": {},
   "source": [
    "# 创建音符\n",
    "\n",
    "音符是音乐中的最基本单位，`music21`库的风格是强类型的。基本来说，构成乐谱的每个音乐元素都有相应的类，并有其成员、方法。所有元素的类型都应是明确的。音符在`music21`中为`music.note.Note`类型，可以直接使用`note.Note()`初始化该类的实例（`note.Note()`中无参数则返回一个C4音高的四分音符）。"
   ]
  },
  {
   "cell_type": "code",
   "execution_count": 2,
   "metadata": {
    "ExecuteTime": {
     "end_time": "2019-07-14T11:01:36.385403Z",
     "start_time": "2019-07-14T11:01:36.378400Z"
    }
   },
   "outputs": [],
   "source": [
    "f = note.Note(\"F5#\") #创建一个音高为F5#的音符"
   ]
  },
  {
   "cell_type": "code",
   "execution_count": 3,
   "metadata": {
    "ExecuteTime": {
     "end_time": "2019-07-14T11:01:36.411850Z",
     "start_time": "2019-07-14T11:01:36.388914Z"
    }
   },
   "outputs": [
    {
     "data": {
      "text/plain": [
       "'F#'"
      ]
     },
     "execution_count": 3,
     "metadata": {},
     "output_type": "execute_result"
    }
   ],
   "source": [
    "f.name #音符的音名"
   ]
  },
  {
   "cell_type": "code",
   "execution_count": 4,
   "metadata": {
    "ExecuteTime": {
     "end_time": "2019-07-14T11:01:36.424847Z",
     "start_time": "2019-07-14T11:01:36.413847Z"
    }
   },
   "outputs": [
    {
     "data": {
      "text/plain": [
       "'F'"
      ]
     },
     "execution_count": 4,
     "metadata": {},
     "output_type": "execute_result"
    }
   ],
   "source": [
    "f.step #音符的音级（不包含变化音及八度信息的音名，这里成为音级严格来说并不准确）"
   ]
  },
  {
   "cell_type": "code",
   "execution_count": 5,
   "metadata": {
    "ExecuteTime": {
     "end_time": "2019-07-14T11:01:36.436785Z",
     "start_time": "2019-07-14T11:01:36.426839Z"
    }
   },
   "outputs": [
    {
     "data": {
      "text/plain": [
       "'6'"
      ]
     },
     "execution_count": 5,
     "metadata": {},
     "output_type": "execute_result"
    }
   ],
   "source": [
    "f.pitch.pitchClassString #音级（以C为0级的音程数）"
   ]
  },
  {
   "cell_type": "code",
   "execution_count": 6,
   "metadata": {
    "ExecuteTime": {
     "end_time": "2019-07-14T11:01:36.448772Z",
     "start_time": "2019-07-14T11:01:36.438780Z"
    }
   },
   "outputs": [
    {
     "data": {
      "text/plain": [
       "5"
      ]
     },
     "execution_count": 6,
     "metadata": {},
     "output_type": "execute_result"
    }
   ],
   "source": [
    "f.octave #八度"
   ]
  },
  {
   "cell_type": "code",
   "execution_count": 7,
   "metadata": {
    "ExecuteTime": {
     "end_time": "2019-07-14T11:01:36.463712Z",
     "start_time": "2019-07-14T11:01:36.453739Z"
    }
   },
   "outputs": [
    {
     "data": {
      "text/plain": [
       "<music21.pitch.Pitch F#5>"
      ]
     },
     "execution_count": 7,
     "metadata": {},
     "output_type": "execute_result"
    }
   ],
   "source": [
    "f.pitch #音符的音高，返回一个音高对象"
   ]
  },
  {
   "cell_type": "code",
   "execution_count": 8,
   "metadata": {
    "ExecuteTime": {
     "end_time": "2019-07-14T11:01:36.478695Z",
     "start_time": "2019-07-14T11:01:36.467719Z"
    }
   },
   "outputs": [
    {
     "data": {
      "text/plain": [
       "<music21.duration.Duration 1.0>"
      ]
     },
     "execution_count": 8,
     "metadata": {},
     "output_type": "execute_result"
    }
   ],
   "source": [
    "f.duration #音符的时值，返回一个时值对象"
   ]
  },
  {
   "cell_type": "code",
   "execution_count": 9,
   "metadata": {
    "ExecuteTime": {
     "end_time": "2019-07-14T11:01:36.496626Z",
     "start_time": "2019-07-14T11:01:36.482665Z"
    }
   },
   "outputs": [
    {
     "data": {
      "text/plain": [
       "'quarter'"
      ]
     },
     "execution_count": 9,
     "metadata": {},
     "output_type": "execute_result"
    }
   ],
   "source": [
    "f.duration.type #音符的时值的类型"
   ]
  },
  {
   "cell_type": "markdown",
   "metadata": {},
   "source": [
    "## 在音符创建后，可修改其中的属性"
   ]
  },
  {
   "cell_type": "code",
   "execution_count": 10,
   "metadata": {
    "ExecuteTime": {
     "end_time": "2019-07-14T11:01:36.505602Z",
     "start_time": "2019-07-14T11:01:36.499622Z"
    }
   },
   "outputs": [],
   "source": [
    "f.octave=6"
   ]
  },
  {
   "cell_type": "code",
   "execution_count": 11,
   "metadata": {
    "ExecuteTime": {
     "end_time": "2019-07-14T11:01:36.522555Z",
     "start_time": "2019-07-14T11:01:36.509590Z"
    }
   },
   "outputs": [
    {
     "data": {
      "text/plain": [
       "<music21.pitch.Pitch F#6>"
      ]
     },
     "execution_count": 11,
     "metadata": {},
     "output_type": "execute_result"
    }
   ],
   "source": [
    "f.pitch"
   ]
  },
  {
   "cell_type": "code",
   "execution_count": 12,
   "metadata": {
    "ExecuteTime": {
     "end_time": "2019-07-14T11:01:36.533525Z",
     "start_time": "2019-07-14T11:01:36.524550Z"
    }
   },
   "outputs": [],
   "source": [
    "f = note.Note(\"F5#\") #可以在note.Note()中指定音高、八度及变化音来初始化音符对象\n",
    "f.pitch.accidental=pitch.Accidental(-1) #pitch.accidental是变化音的类型"
   ]
  },
  {
   "cell_type": "code",
   "execution_count": 13,
   "metadata": {
    "ExecuteTime": {
     "end_time": "2019-07-14T11:01:36.550480Z",
     "start_time": "2019-07-14T11:01:36.535521Z"
    }
   },
   "outputs": [
    {
     "data": {
      "text/plain": [
       "<music21.note.Note F->"
      ]
     },
     "execution_count": 13,
     "metadata": {},
     "output_type": "execute_result"
    }
   ],
   "source": [
    "f"
   ]
  },
  {
   "cell_type": "code",
   "execution_count": 14,
   "metadata": {
    "ExecuteTime": {
     "end_time": "2019-07-14T11:01:36.560457Z",
     "start_time": "2019-07-14T11:01:36.554473Z"
    }
   },
   "outputs": [],
   "source": [
    "f.duration.dots+=1 #改变符点数量"
   ]
  },
  {
   "cell_type": "code",
   "execution_count": 15,
   "metadata": {
    "ExecuteTime": {
     "end_time": "2019-07-14T11:01:36.576415Z",
     "start_time": "2019-07-14T11:01:36.563446Z"
    }
   },
   "outputs": [
    {
     "data": {
      "text/plain": [
       "<music21.duration.Duration 1.5>"
      ]
     },
     "execution_count": 15,
     "metadata": {},
     "output_type": "execute_result"
    }
   ],
   "source": [
    "f.duration"
   ]
  },
  {
   "cell_type": "code",
   "execution_count": 16,
   "metadata": {
    "ExecuteTime": {
     "end_time": "2019-07-14T11:01:36.589378Z",
     "start_time": "2019-07-14T11:01:36.581402Z"
    }
   },
   "outputs": [],
   "source": [
    "f.duration.quarterLength=2 #直接改变时值，以四分音符计"
   ]
  },
  {
   "cell_type": "code",
   "execution_count": 17,
   "metadata": {
    "ExecuteTime": {
     "end_time": "2019-07-14T11:01:36.603340Z",
     "start_time": "2019-07-14T11:01:36.592401Z"
    }
   },
   "outputs": [
    {
     "data": {
      "text/plain": [
       "<music21.duration.Duration 2.0>"
      ]
     },
     "execution_count": 17,
     "metadata": {},
     "output_type": "execute_result"
    }
   ],
   "source": [
    "f.duration"
   ]
  },
  {
   "cell_type": "markdown",
   "metadata": {},
   "source": [
    "也可以添加泛音等标记\n",
    "<https://web.mit.edu/music21/doc/moduleReference/moduleArticulations.html?highlight=staccato#music21.articulations.Staccato>"
   ]
  },
  {
   "cell_type": "code",
   "execution_count": 18,
   "metadata": {
    "ExecuteTime": {
     "end_time": "2019-07-14T11:01:36.617306Z",
     "start_time": "2019-07-14T11:01:36.607329Z"
    }
   },
   "outputs": [],
   "source": [
    "f.articulations = [articulations.Staccato()]"
   ]
  },
  {
   "cell_type": "markdown",
   "metadata": {},
   "source": [
    "# 和弦\n",
    "除了音符之外，乐谱中的另一个重要元素为和弦。和弦在`music21`中也有其单独的类型`music21.chord.Chord`。"
   ]
  },
  {
   "cell_type": "code",
   "execution_count": 19,
   "metadata": {
    "ExecuteTime": {
     "end_time": "2019-07-14T11:01:36.636255Z",
     "start_time": "2019-07-14T11:01:36.621290Z"
    }
   },
   "outputs": [
    {
     "name": "stdout",
     "output_type": "stream",
     "text": [
      "<music21.chord.Chord E3 C4 G4>\n"
     ]
    }
   ],
   "source": [
    "cMajor = chord.Chord([\"E3\",\"C4\",\"G4\"]) #初始化和弦\n",
    "print(cMajor)"
   ]
  },
  {
   "cell_type": "code",
   "execution_count": 20,
   "metadata": {
    "ExecuteTime": {
     "end_time": "2019-07-14T11:01:36.651214Z",
     "start_time": "2019-07-14T11:01:36.640240Z"
    }
   },
   "outputs": [
    {
     "name": "stdout",
     "output_type": "stream",
     "text": [
      "<music21.chord.Chord E3 C4 G4>\n"
     ]
    }
   ],
   "source": [
    "cMajor = chord.Chord() #也可以初始化一个空白类并一个个添加\n",
    "cMajor.add(note.Note(\"E3\"))\n",
    "cMajor.add(note.Note(\"C4\"))\n",
    "cMajor.add(note.Note(\"G4\"))\n",
    "print(cMajor)"
   ]
  },
  {
   "cell_type": "code",
   "execution_count": 21,
   "metadata": {
    "ExecuteTime": {
     "end_time": "2019-07-14T11:01:36.664180Z",
     "start_time": "2019-07-14T11:01:36.654207Z"
    }
   },
   "outputs": [],
   "source": [
    "# 与Note类似，和弦也可以修改时值：\n",
    "cMajor.duration.quarterLength=2"
   ]
  },
  {
   "cell_type": "markdown",
   "metadata": {},
   "source": [
    "# Stream\n",
    "Stream是在music21中类似list的基本单位，它可以储存任意music21对象及其组合。\n",
    "\n",
    "创建一个stream："
   ]
  },
  {
   "cell_type": "code",
   "execution_count": 22,
   "metadata": {
    "ExecuteTime": {
     "end_time": "2019-07-14T11:01:36.678143Z",
     "start_time": "2019-07-14T11:01:36.673156Z"
    }
   },
   "outputs": [],
   "source": [
    "stream1 = stream.Stream()"
   ]
  },
  {
   "cell_type": "code",
   "execution_count": 23,
   "metadata": {
    "ExecuteTime": {
     "end_time": "2019-07-14T11:01:36.696100Z",
     "start_time": "2019-07-14T11:01:36.683126Z"
    }
   },
   "outputs": [],
   "source": [
    "stream1.append(f)\n",
    "n3 = note.Note('D#5')\n",
    "stream1.repeatAppend(n3, 4)"
   ]
  },
  {
   "cell_type": "code",
   "execution_count": 24,
   "metadata": {
    "ExecuteTime": {
     "end_time": "2019-07-14T11:01:36.709062Z",
     "start_time": "2019-07-14T11:01:36.700080Z"
    }
   },
   "outputs": [
    {
     "name": "stdout",
     "output_type": "stream",
     "text": [
      "5\n"
     ]
    }
   ],
   "source": [
    "print(len(stream1))"
   ]
  },
  {
   "cell_type": "markdown",
   "metadata": {},
   "source": [
    "当需要显示Stream以及整个乐谱等复杂结构的内容时，需要使用`.show()`方法。`.show()`方法不加参数是打开默认的乐谱编辑器，但是其设置较为麻烦，请读者自行配置。本文中皆使用`.show('text')`进行文字显示。"
   ]
  },
  {
   "cell_type": "code",
   "execution_count": 25,
   "metadata": {
    "ExecuteTime": {
     "end_time": "2019-07-14T11:01:36.725016Z",
     "start_time": "2019-07-14T11:01:36.713049Z"
    }
   },
   "outputs": [
    {
     "name": "stdout",
     "output_type": "stream",
     "text": [
      "{0.0} <music21.note.Note F->\n",
      "{2.0} <music21.note.Note D#>\n",
      "{3.0} <music21.note.Note D#>\n",
      "{4.0} <music21.note.Note D#>\n",
      "{5.0} <music21.note.Note D#>\n"
     ]
    }
   ],
   "source": [
    "stream1.show('text')"
   ]
  },
  {
   "cell_type": "markdown",
   "metadata": {},
   "source": [
    "## 当然也可以当迭代器使用："
   ]
  },
  {
   "cell_type": "code",
   "execution_count": 26,
   "metadata": {
    "ExecuteTime": {
     "end_time": "2019-07-14T11:01:36.739974Z",
     "start_time": "2019-07-14T11:01:36.728006Z"
    }
   },
   "outputs": [
    {
     "name": "stdout",
     "output_type": "stream",
     "text": [
      "F\n",
      "D\n",
      "D\n",
      "D\n",
      "D\n"
     ]
    }
   ],
   "source": [
    "for thisNote in stream1:\n",
    "    print(thisNote.step)"
   ]
  },
  {
   "cell_type": "markdown",
   "metadata": {},
   "source": [
    "## 也支持如列表的查找和删除："
   ]
  },
  {
   "cell_type": "code",
   "execution_count": 27,
   "metadata": {
    "ExecuteTime": {
     "end_time": "2019-07-14T11:01:36.752942Z",
     "start_time": "2019-07-14T11:01:36.742966Z"
    }
   },
   "outputs": [
    {
     "data": {
      "text/plain": [
       "<music21.note.Note F->"
      ]
     },
     "execution_count": 27,
     "metadata": {},
     "output_type": "execute_result"
    }
   ],
   "source": [
    "note3Index = stream1.index(f)\n",
    "stream1.pop(note3Index)"
   ]
  },
  {
   "cell_type": "code",
   "execution_count": 28,
   "metadata": {
    "ExecuteTime": {
     "end_time": "2019-07-14T11:01:36.769896Z",
     "start_time": "2019-07-14T11:01:36.755931Z"
    }
   },
   "outputs": [
    {
     "data": {
      "text/plain": [
       "True"
      ]
     },
     "execution_count": 28,
     "metadata": {},
     "output_type": "execute_result"
    }
   ],
   "source": [
    "stream1[2] == n3"
   ]
  },
  {
   "cell_type": "code",
   "execution_count": 29,
   "metadata": {
    "ExecuteTime": {
     "end_time": "2019-07-14T11:01:36.781862Z",
     "start_time": "2019-07-14T11:01:36.772886Z"
    }
   },
   "outputs": [
    {
     "name": "stdout",
     "output_type": "stream",
     "text": [
      "{2.0} <music21.note.Note D#>\n",
      "{3.0} <music21.note.Note D#>\n",
      "{4.0} <music21.note.Note D#>\n",
      "{5.0} <music21.note.Note D#>\n"
     ]
    }
   ],
   "source": [
    "stream1.show('text')"
   ]
  },
  {
   "cell_type": "markdown",
   "metadata": {},
   "source": [
    "## 添加元素或添加Stream\n",
    "stream可以嵌套使用，形成层级关系。"
   ]
  },
  {
   "cell_type": "code",
   "execution_count": 30,
   "metadata": {
    "ExecuteTime": {
     "end_time": "2019-07-14T11:01:36.796824Z",
     "start_time": "2019-07-14T11:01:36.784854Z"
    }
   },
   "outputs": [],
   "source": [
    "biggerStream = stream.Stream()\n",
    "note2 = note.Note(\"D#5\")\n",
    "biggerStream.insert(0, note2)\n",
    "biggerStream.append(stream1)"
   ]
  },
  {
   "cell_type": "code",
   "execution_count": 31,
   "metadata": {
    "ExecuteTime": {
     "end_time": "2019-07-14T11:01:36.808793Z",
     "start_time": "2019-07-14T11:01:36.799818Z"
    }
   },
   "outputs": [
    {
     "name": "stdout",
     "output_type": "stream",
     "text": [
      "{0.0} <music21.note.Note D#>\n",
      "{1.0} <music21.stream.Stream 0x1cd59e005f8>\n",
      "    {2.0} <music21.note.Note D#>\n",
      "    {3.0} <music21.note.Note D#>\n",
      "    {4.0} <music21.note.Note D#>\n",
      "    {5.0} <music21.note.Note D#>\n"
     ]
    }
   ],
   "source": [
    "biggerStream.show('text')  # 在文字显示的缩进上可以看出层级的关系"
   ]
  },
  {
   "cell_type": "markdown",
   "metadata": {},
   "source": [
    "# 小节 (Measure)："
   ]
  },
  {
   "cell_type": "code",
   "execution_count": 32,
   "metadata": {
    "ExecuteTime": {
     "end_time": "2019-07-14T11:01:36.824750Z",
     "start_time": "2019-07-14T11:01:36.812779Z"
    }
   },
   "outputs": [],
   "source": [
    "m1=stream.Measure(number=0)"
   ]
  },
  {
   "cell_type": "code",
   "execution_count": 33,
   "metadata": {
    "ExecuteTime": {
     "end_time": "2019-07-14T11:01:36.839710Z",
     "start_time": "2019-07-14T11:01:36.827746Z"
    }
   },
   "outputs": [],
   "source": [
    "m1.repeatAppend(f, 4)"
   ]
  },
  {
   "cell_type": "code",
   "execution_count": 34,
   "metadata": {
    "ExecuteTime": {
     "end_time": "2019-07-14T11:01:36.858660Z",
     "start_time": "2019-07-14T11:01:36.842700Z"
    }
   },
   "outputs": [],
   "source": [
    "m2=stream.Measure(number=1)\n",
    "m2.repeatAppend(n3, 2)"
   ]
  },
  {
   "cell_type": "code",
   "execution_count": 35,
   "metadata": {
    "ExecuteTime": {
     "end_time": "2019-07-14T11:01:36.871625Z",
     "start_time": "2019-07-14T11:01:36.862654Z"
    }
   },
   "outputs": [],
   "source": [
    "stream2=stream.Stream()\n",
    "stream2.append(m1)\n",
    "stream2.append(m2)"
   ]
  },
  {
   "cell_type": "code",
   "execution_count": 36,
   "metadata": {
    "ExecuteTime": {
     "end_time": "2019-07-14T11:01:36.890572Z",
     "start_time": "2019-07-14T11:01:36.875616Z"
    }
   },
   "outputs": [],
   "source": [
    "ts=meter.TimeSignature()"
   ]
  },
  {
   "cell_type": "code",
   "execution_count": 37,
   "metadata": {
    "ExecuteTime": {
     "end_time": "2019-07-14T11:01:36.907529Z",
     "start_time": "2019-07-14T11:01:36.894561Z"
    }
   },
   "outputs": [],
   "source": [
    "ts.denominator=4"
   ]
  },
  {
   "cell_type": "code",
   "execution_count": 38,
   "metadata": {
    "ExecuteTime": {
     "end_time": "2019-07-14T11:01:36.929468Z",
     "start_time": "2019-07-14T11:01:36.911518Z"
    }
   },
   "outputs": [],
   "source": [
    "ts.numerator=int(m1.duration.quarterLength)\n",
    "m1.insert(0,ts)"
   ]
  },
  {
   "cell_type": "code",
   "execution_count": 39,
   "metadata": {
    "ExecuteTime": {
     "end_time": "2019-07-14T11:01:36.943433Z",
     "start_time": "2019-07-14T11:01:36.933460Z"
    }
   },
   "outputs": [
    {
     "name": "stdout",
     "output_type": "stream",
     "text": [
      "{0.0} <music21.meter.TimeSignature 8/4>\n",
      "{0.0} <music21.note.Note F->\n",
      "{2.0} <music21.note.Note F->\n",
      "{4.0} <music21.note.Note F->\n",
      "{6.0} <music21.note.Note F->\n"
     ]
    }
   ],
   "source": [
    "m1.show('text')"
   ]
  },
  {
   "cell_type": "markdown",
   "metadata": {},
   "source": [
    "# 查找：\n",
    "可以查找所有指定的类，`getElementsByClass`返回迭代器："
   ]
  },
  {
   "cell_type": "code",
   "execution_count": 40,
   "metadata": {
    "ExecuteTime": {
     "end_time": "2019-07-14T11:01:36.959390Z",
     "start_time": "2019-07-14T11:01:36.946426Z"
    }
   },
   "outputs": [
    {
     "name": "stdout",
     "output_type": "stream",
     "text": [
      "<music21.note.Note D#> 2.0\n",
      "<music21.note.Note D#> 3.0\n",
      "<music21.note.Note D#> 4.0\n",
      "<music21.note.Note D#> 5.0\n"
     ]
    }
   ],
   "source": [
    "for thisNote in stream1.getElementsByClass(note.Note): \n",
    "    print(thisNote, thisNote.offset)"
   ]
  },
  {
   "cell_type": "code",
   "execution_count": 41,
   "metadata": {
    "ExecuteTime": {
     "end_time": "2019-07-14T11:01:36.970363Z",
     "start_time": "2019-07-14T11:01:36.963377Z"
    }
   },
   "outputs": [],
   "source": [
    "stream1.append(note.Rest())"
   ]
  },
  {
   "cell_type": "code",
   "execution_count": 42,
   "metadata": {
    "ExecuteTime": {
     "end_time": "2019-07-14T11:01:36.992299Z",
     "start_time": "2019-07-14T11:01:36.974348Z"
    }
   },
   "outputs": [
    {
     "name": "stdout",
     "output_type": "stream",
     "text": [
      "<music21.note.Note D#> 2.0\n",
      "<music21.note.Note D#> 3.0\n",
      "<music21.note.Note D#> 4.0\n",
      "<music21.note.Note D#> 5.0\n",
      "<music21.note.Rest rest> 6.0\n"
     ]
    }
   ],
   "source": [
    "for thisNote in stream1.getElementsByClass([\"Note\", \"Rest\"]): \n",
    "    print(thisNote, thisNote.offset)"
   ]
  },
  {
   "cell_type": "markdown",
   "metadata": {},
   "source": [
    "## 也可以列出所有音高（不管时值）"
   ]
  },
  {
   "cell_type": "code",
   "execution_count": 43,
   "metadata": {
    "ExecuteTime": {
     "end_time": "2019-07-14T11:01:37.015239Z",
     "start_time": "2019-07-14T11:01:36.997287Z"
    }
   },
   "outputs": [
    {
     "data": {
      "text/plain": [
       "[<music21.pitch.Pitch D#5>,\n",
       " <music21.pitch.Pitch D#5>,\n",
       " <music21.pitch.Pitch D#5>,\n",
       " <music21.pitch.Pitch D#5>]"
      ]
     },
     "execution_count": 43,
     "metadata": {},
     "output_type": "execute_result"
    }
   ],
   "source": [
    "stream1.pitches"
   ]
  },
  {
   "cell_type": "markdown",
   "metadata": {},
   "source": [
    "有些子方法与使用`getElementsByClass`查找的用途一直，例如`.notes`相当于`.getElementsByClass([\"Note\", \"Chord\"])`，`.notesAndRests`相当于`.getElementsByClass(['Note', 'Chord', 'Rest'])`。"
   ]
  },
  {
   "cell_type": "markdown",
   "metadata": {},
   "source": [
    "## 分析最大音高与最小音高的差："
   ]
  },
  {
   "cell_type": "code",
   "execution_count": 44,
   "metadata": {
    "ExecuteTime": {
     "end_time": "2019-07-14T11:01:37.033194Z",
     "start_time": "2019-07-14T11:01:37.020224Z"
    }
   },
   "outputs": [
    {
     "data": {
      "text/plain": [
       "<music21.interval.Interval P1>"
      ]
     },
     "execution_count": 44,
     "metadata": {},
     "output_type": "execute_result"
    }
   ],
   "source": [
    "stream1.analyze('ambitus')"
   ]
  },
  {
   "cell_type": "markdown",
   "metadata": {},
   "source": [
    "# 生成乐谱"
   ]
  },
  {
   "cell_type": "markdown",
   "metadata": {},
   "source": [
    "## 创建一个乐谱对象："
   ]
  },
  {
   "cell_type": "code",
   "execution_count": 45,
   "metadata": {
    "ExecuteTime": {
     "end_time": "2019-07-14T11:01:37.050148Z",
     "start_time": "2019-07-14T11:01:37.037179Z"
    }
   },
   "outputs": [],
   "source": [
    "score = stream.Score()"
   ]
  },
  {
   "cell_type": "markdown",
   "metadata": {},
   "source": [
    "## 添加声部："
   ]
  },
  {
   "cell_type": "code",
   "execution_count": 46,
   "metadata": {
    "ExecuteTime": {
     "end_time": "2019-07-14T11:01:37.069097Z",
     "start_time": "2019-07-14T11:01:37.055135Z"
    }
   },
   "outputs": [],
   "source": [
    "part = stream.Part()\n",
    "part.partName = 'Example Part'"
   ]
  },
  {
   "cell_type": "markdown",
   "metadata": {},
   "source": [
    "## 将之前生成的Stream添加到声部中："
   ]
  },
  {
   "cell_type": "code",
   "execution_count": 47,
   "metadata": {
    "ExecuteTime": {
     "end_time": "2019-07-14T11:01:37.090042Z",
     "start_time": "2019-07-14T11:01:37.074081Z"
    }
   },
   "outputs": [],
   "source": [
    "part.append(stream2)"
   ]
  },
  {
   "cell_type": "markdown",
   "metadata": {},
   "source": [
    "## 将声部添加到乐谱中："
   ]
  },
  {
   "cell_type": "code",
   "execution_count": 48,
   "metadata": {
    "ExecuteTime": {
     "end_time": "2019-07-14T11:01:37.110983Z",
     "start_time": "2019-07-14T11:01:37.094027Z"
    }
   },
   "outputs": [],
   "source": [
    "score.insert(0, part)"
   ]
  },
  {
   "cell_type": "markdown",
   "metadata": {},
   "source": [
    "## 添加题目、作者等元数据："
   ]
  },
  {
   "cell_type": "code",
   "execution_count": 49,
   "metadata": {
    "ExecuteTime": {
     "end_time": "2019-07-14T11:01:37.132924Z",
     "start_time": "2019-07-14T11:01:37.115971Z"
    }
   },
   "outputs": [],
   "source": [
    "score.insert(0, metadata.Metadata())\n",
    "score.metadata.title = 'example title'\n",
    "score.metadata.composer = 'example composer'"
   ]
  },
  {
   "cell_type": "markdown",
   "metadata": {},
   "source": [
    "## 写入文件："
   ]
  },
  {
   "cell_type": "code",
   "execution_count": null,
   "metadata": {
    "ExecuteTime": {
     "end_time": "2019-07-14T11:02:09.395071Z",
     "start_time": "2019-07-14T11:02:09.357205Z"
    }
   },
   "outputs": [],
   "source": [
    "score.write('xml',fp=r'example.xml')"
   ]
  }
 ],
 "metadata": {
  "anaconda-cloud": {},
  "kernelspec": {
   "display_name": "tensorflow",
   "language": "python",
   "name": "tensorflow"
  },
  "language_info": {
   "codemirror_mode": {
    "name": "ipython",
    "version": 3
   },
   "file_extension": ".py",
   "mimetype": "text/x-python",
   "name": "python",
   "nbconvert_exporter": "python",
   "pygments_lexer": "ipython3",
   "version": "3.6.8"
  },
  "toc": {
   "base_numbering": 1,
   "nav_menu": {},
   "number_sections": true,
   "sideBar": true,
   "skip_h1_title": false,
   "title_cell": "Table of Contents",
   "title_sidebar": "Contents",
   "toc_cell": false,
   "toc_position": {},
   "toc_section_display": true,
   "toc_window_display": false
  },
  "varInspector": {
   "cols": {
    "lenName": 16,
    "lenType": 16,
    "lenVar": 40
   },
   "kernels_config": {
    "python": {
     "delete_cmd_postfix": "",
     "delete_cmd_prefix": "del ",
     "library": "var_list.py",
     "varRefreshCmd": "print(var_dic_list())"
    },
    "r": {
     "delete_cmd_postfix": ") ",
     "delete_cmd_prefix": "rm(",
     "library": "var_list.r",
     "varRefreshCmd": "cat(var_dic_list()) "
    }
   },
   "types_to_exclude": [
    "module",
    "function",
    "builtin_function_or_method",
    "instance",
    "_Feature"
   ],
   "window_display": false
  }
 },
 "nbformat": 4,
 "nbformat_minor": 1
}
