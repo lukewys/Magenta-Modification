{
 "cells": [
  {
   "cell_type": "markdown",
   "metadata": {},
   "source": [
    "# Magenta魔改记-1：原始数据转换\n",
    "\n",
    "## 前言\n",
    "本文主要讲述Magenta项目原始数据整合的过程，并介绍了读取MIDI和XML的函数。通过本文我们可以看到，在原始音乐数据整合的过程中，Magenta将不同格式的数据转换到了一个接近MusicXML的统一格式中统一存储。\n",
    "\n",
    "Magenta中有很多自动作曲模型，它们都使用不同格式的数据输入。在Magenta中，原始数据（MIDI,MusicXML等）先被转换成基于protocol buffers的NoteSequence，之后，根据模型的不同，再将NoteSequence转换成该模型需要的输入。\n",
    "\n",
    "Magenta支持MIDI（.mid/.midi）、MusicXML（.xml/.mxl）、ABC（<http://abcnotation.com>，没有测试过）等格式的原始数据文件做训练数据。\n",
    "\n",
    "通过[convert_dir_to_note_sequences.py](https://github.com/tensorflow/magenta/blob/master/magenta/scripts/convert_dir_to_note_sequences.py)，这些原始数据被转换为NoteSequence，并以tfrecord格式储存。\n",
    "\n",
    "接下来我们分析在将convert_dir_to_note_sequences.py中如何将MIDI/MusicXML文件转换成NoteSequence。\n",
    "\n",
    "###### Magenta version:1.1.1\n",
    " \n",
    "## 魔改-1.0：从命令行输入参数：\n",
    "\n",
    "在Magenta的github中提供了如何将原始数据通过命令行转换为NoteSequence protocol buffers的方法：\n",
    "<https://github.com/tensorflow/magenta/tree/master/magenta/scripts#building-your-dataset>\n",
    "\n",
    "上述链接中提供的Linux命令行如下：\n",
    "\n",
    "```\n",
    "INPUT_DIRECTORY=<folder containing MIDI and/or MusicXML files. can have child folders.>\n",
    "\n",
    "# TFRecord file that will contain NoteSequence protocol buffers.\n",
    "SEQUENCES_TFRECORD=/tmp/notesequences.tfrecord\n",
    "\n",
    "convert_dir_to_note_sequences \\\n",
    "  --input_dir=$INPUT_DIRECTORY \\\n",
    "  --output_file=$SEQUENCES_TFRECORD \\\n",
    "  --recursive\n",
    "```\n",
    "\n",
    "这一步的python命令行如下（摘自[convert_dir_to_note_sequences.py](https://github.com/tensorflow/magenta/blob/master/magenta/scripts/convert_dir_to_note_sequences.py)源代码注释）：\n",
    "\n",
    "```\n",
    "Example usage:\n",
    "  $ python magenta/scripts/convert_dir_to_note_sequences.py \\\n",
    "    --input_dir=/path/to/input/dir \\\n",
    "    --output_file=/path/to/tfrecord/file \\\n",
    "    --log=INFO\n",
    "```\n",
    "\n",
    "\n",
    "\n",
    "那么下面介绍如何在代码中直接修改这一步预处理的参数。\n",
    "\n",
    "这一步运行的文件位置如下：\n",
    "\n",
    "[convert_dir_to_note_sequences.py](https://github.com/tensorflow/magenta/blob/master/magenta/scripts/convert_dir_to_note_sequences.py)\n",
    "\n",
    "打开源代码我们可以看到，程序一开始就定义了一系列tf.flag：\n",
    "\n",
    "```\n",
    "FLAGS = tf.app.flags.FLAGS\n",
    "\n",
    "tf.app.flags.DEFINE_string('input_dir', None,\n",
    "                           'Directory containing files to convert.')\n",
    "#输入路径\n",
    "tf.app.flags.DEFINE_string('output_file', None,\n",
    "                           'Path to output TFRecord file. Will be overwritten '\n",
    "                           'if it already exists.')\n",
    "#输出路径\n",
    "tf.app.flags.DEFINE_bool('recursive', False,\n",
    "                         'Whether or not to recurse into subdirectories.')\n",
    "#是否递归查找子路径的文件\n",
    "\n",
    "tf.app.flags.DEFINE_string('log', 'INFO',\n",
    "                           'The threshold for what messages will be logged '\n",
    "                           'DEBUG, INFO, WARN, ERROR, or FATAL.')\n",
    "#显示消息的类型\n",
    "```\n",
    "\n",
    "tf.app.flags是Tensorflow中用于从命令行传递参数的模块，基于argparse。如果在运行时不输入参数，则会按程序中默认填写的参数运行。\n",
    "\n",
    "通过`python convert_dir_to_note_sequences.py –h `可以显示注释信息和参数及其详情。\n",
    "因此，我们在自定义参数时，既可以在命令行运行时输入：\n",
    "\n",
    "```\n",
    "python convert_dir_to_note_sequences.py --input_dir=XXX --output_file=YYY --recursive=True\n",
    "```\n",
    "\n",
    "同样，我们也可以把前面这几行当做超参数变量声明，直接在`convert_dir_to_note_sequences.py`中修改，然后运行这个文件。\n",
    "\n",
    "除了命令行之外，我们接下来介绍如何在python文件中直接修改参数以及如何在jupyter环境中修改参数并调试。"
   ]
  },
  {
   "cell_type": "markdown",
   "metadata": {},
   "source": [
    "## 魔改-2.0：在jupyter notebook中调试：\n",
    "\n",
    "\n",
    "\n",
    "接下来，我们介绍如何在jupyter notebook中调试，并展现这个程序的详细原理以及文件储存的数据类型。\n",
    "\n",
    "程序源代码地址：\n",
    "https://github.com/tensorflow/magenta/blob/master/magenta/scripts/convert_dir_to_note_sequences.py\n",
    "\n",
    "在本程序中，大致的运行步骤为：\n",
    "1. 先检测输入路径（以及子路径）中所有符合要求的文件，生成文件路径列表。\n",
    "2. 再根据路径列表多线程地处理数据，转换为NoteSequence。\n",
    "3. 保存为.tfrecord文件。\n",
    "\n",
    "第一步对应`queue_conversions(root_dir, sub_dir, pool, recursive=False)`函数，在此不多展开。\n",
    "\n",
    "第二步对应`convert_midi(root_dir, sub_dir, full_file_path)`、\n",
    "`convert_musicxml(root_dir, sub_dir, full_file_path)`两个函数。顾名思义就是针对midi和xml文件的处理函数（一开始说的ABC数据处理函数未知）。它们的参数以及返回值可以在函数注释中找到详细的介绍。简单来说就是输入文件路径、文件所在文件夹路径、上一级路径，输出NoteSequence proto，一个在Magenta项目中用来表示音符序列的数据类型。\n",
    "\n",
    "第三步则对应`convert_directory(root_dir, output_file, num_threads,recursive=False)`，是总的函数。"
   ]
  },
  {
   "cell_type": "markdown",
   "metadata": {},
   "source": [
    "首先我们可以把这个文件导入："
   ]
  },
  {
   "cell_type": "code",
   "execution_count": 1,
   "metadata": {
    "ExecuteTime": {
     "end_time": "2019-05-18T16:11:29.939213Z",
     "start_time": "2019-05-18T16:11:24.833994Z"
    },
    "collapsed": false
   },
   "outputs": [
    {
     "name": "stdout",
     "output_type": "stream",
     "text": [
      "\n",
      "WARNING: The TensorFlow contrib module will not be included in TensorFlow 2.0.\n",
      "For more information, please see:\n",
      "  * https://github.com/tensorflow/community/blob/master/rfcs/20180907-contrib-sunset.md\n",
      "  * https://github.com/tensorflow/addons\n",
      "If you depend on functionality not listed there, please file an issue.\n",
      "\n"
     ]
    }
   ],
   "source": [
    "import tensorflow as tf\n",
    "import magenta as mgt\n",
    "import magenta.scripts.convert_dir_to_note_sequences as cvrt"
   ]
  },
  {
   "cell_type": "markdown",
   "metadata": {},
   "source": [
    "导入之后我们就可以用查看子类的方式查看它的FLAGS参数："
   ]
  },
  {
   "cell_type": "code",
   "execution_count": 2,
   "metadata": {
    "ExecuteTime": {
     "end_time": "2019-05-18T16:11:29.944214Z",
     "start_time": "2019-05-18T16:11:29.941214Z"
    },
    "collapsed": false
   },
   "outputs": [
    {
     "name": "stdout",
     "output_type": "stream",
     "text": [
      "\n",
      "magenta.scripts.convert_dir_to_note_sequences:\n",
      "  --input_dir: Directory containing files to convert.\n",
      "  --log: The threshold for what messages will be logged DEBUG, INFO, WARN,\n",
      "    ERROR, or FATAL.\n",
      "    (default: 'INFO')\n",
      "  --output_file: Path to output TFRecord file. Will be overwritten if it already\n",
      "    exists.\n",
      "  --[no]recursive: Whether or not to recurse into subdirectories.\n",
      "    (default: 'false')\n",
      "\n",
      "absl.flags:\n",
      "  --flagfile: Insert flag definitions from the given file into the command line.\n",
      "    (default: '')\n",
      "  --undefok: comma-separated list of flag names that it is okay to specify on\n",
      "    the command line even if the program does not define a flag with that name.\n",
      "    IMPORTANT: flags in this list that have arguments MUST use the --flag=value\n",
      "    format.\n",
      "    (default: '')\n"
     ]
    }
   ],
   "source": [
    "print(cvrt.FLAGS)"
   ]
  },
  {
   "cell_type": "code",
   "execution_count": 3,
   "metadata": {
    "ExecuteTime": {
     "end_time": "2019-05-18T16:11:29.955217Z",
     "start_time": "2019-05-18T16:11:29.945214Z"
    },
    "collapsed": true
   },
   "outputs": [],
   "source": [
    "# 加这行是因为jupyter notebook对tf.app.flags.FLAGS有bug\n",
    "# 见https://github.com/tensorflow/tensorflow/issues/17702\n",
    "tf.app.flags.DEFINE_string('f', '', 'kernel')"
   ]
  },
  {
   "cell_type": "markdown",
   "metadata": {},
   "source": [
    "因此我们也可以用修改FLAGS子类参数的方法运行本程序："
   ]
  },
  {
   "cell_type": "markdown",
   "metadata": {},
   "source": [
    "首先给参数赋值："
   ]
  },
  {
   "cell_type": "code",
   "execution_count": 4,
   "metadata": {
    "ExecuteTime": {
     "end_time": "2019-05-18T16:11:29.964218Z",
     "start_time": "2019-05-18T16:11:29.956217Z"
    },
    "collapsed": true
   },
   "outputs": [],
   "source": [
    "cvrt.FLAGS.input_dir = r'Dataset\\raw\\example-musicxml'\n",
    "cvrt.FLAGS.output_file = r'Dataset\\pre\\example-musicxml.tfrecord'\n",
    "cvrt.FLAGS.recursive = True\n",
    "cvrt.FLAGS.log = 'INFO'"
   ]
  },
  {
   "cell_type": "markdown",
   "metadata": {
    "ExecuteTime": {
     "end_time": "2019-05-18T14:57:54.010414Z",
     "start_time": "2019-05-18T14:57:54.006413Z"
    }
   },
   "source": [
    "接着，运行main函数：\n",
    "\n",
    "如果使用`convert_dir_to_note_sequences.py`文件中的运行方法，可以替换成`tf.app.run(cvrt.main)`，但是使用`tf.app.run`会使进程结束并抛出异常，这里我们先使用直接运行`main`函数的方法。在`convert_dir_to_note_sequences.py`中，main函数有一个不使用的占位参数`unused_argv`。"
   ]
  },
  {
   "cell_type": "code",
   "execution_count": 5,
   "metadata": {
    "ExecuteTime": {
     "end_time": "2019-05-18T16:11:30.639877Z",
     "start_time": "2019-05-18T16:11:29.966220Z"
    },
    "collapsed": false,
    "scrolled": true
   },
   "outputs": [
    {
     "name": "stdout",
     "output_type": "stream",
     "text": [
      "INFO:tensorflow:Converting files in 'Dataset\\raw\\example-musicxml\\'.\n",
      "INFO:tensorflow:0 files converted.\n",
      "INFO:tensorflow:Converted MusicXML file Dataset\\raw\\example-musicxml\\bwv1.6.mxl.\n"
     ]
    }
   ],
   "source": [
    "unused_argv = ''\n",
    "cvrt.main(unused_argv)"
   ]
  },
  {
   "cell_type": "markdown",
   "metadata": {
    "ExecuteTime": {
     "end_time": "2019-05-18T15:44:10.814798Z",
     "start_time": "2019-05-18T15:44:10.811797Z"
    }
   },
   "source": [
    "这样，我们就完成了第一步NoteSequences的创建。"
   ]
  },
  {
   "cell_type": "markdown",
   "metadata": {},
   "source": [
    "如上所说，转换MIDI和MusicXML对应`convert_midi(root_dir, sub_dir, full_file_path)`、`convert_musicxml(root_dir, sub_dir, full_file_path)`两个函数。\n",
    "\n",
    "下面我们选取一个MusicXML文件和一个MIDI，分别来运行一下转换函数并看一下它们返回的结果。"
   ]
  },
  {
   "cell_type": "markdown",
   "metadata": {},
   "source": [
    "MusicXML转换："
   ]
  },
  {
   "cell_type": "code",
   "execution_count": 6,
   "metadata": {
    "ExecuteTime": {
     "end_time": "2019-05-18T16:11:30.743901Z",
     "start_time": "2019-05-18T16:11:30.641878Z"
    },
    "collapsed": false
   },
   "outputs": [
    {
     "name": "stdout",
     "output_type": "stream",
     "text": [
      "INFO:tensorflow:Converted MusicXML file Dataset\\raw\\example-musicxml\\bwv1.6.mxl.\n"
     ]
    }
   ],
   "source": [
    "full_file_path_xml = r'Dataset\\raw\\example-musicxml\\bwv1.6.mxl'\n",
    "root_dir_xml = r'Dataset\\raw\\example-musicxml'\n",
    "sub_dir_xml = r'Dataset\\raw\\example-musicxml'\n",
    "sequence_xml = cvrt.convert_musicxml(root_dir_xml, sub_dir_xml,\n",
    "                                     full_file_path_xml)"
   ]
  },
  {
   "cell_type": "markdown",
   "metadata": {},
   "source": [
    "查看转换结果sequence_xml的类型"
   ]
  },
  {
   "cell_type": "code",
   "execution_count": 7,
   "metadata": {
    "ExecuteTime": {
     "end_time": "2019-05-18T16:11:30.752904Z",
     "start_time": "2019-05-18T16:11:30.746902Z"
    },
    "collapsed": false
   },
   "outputs": [
    {
     "name": "stdout",
     "output_type": "stream",
     "text": [
      "<class 'music_pb2.NoteSequence'>\n"
     ]
    }
   ],
   "source": [
    "print(type(sequence_xml))"
   ]
  },
  {
   "cell_type": "markdown",
   "metadata": {},
   "source": [
    "我们可以看到sequence_xml是一个基于Google protobuf的数据类型。"
   ]
  },
  {
   "cell_type": "markdown",
   "metadata": {},
   "source": [
    "接下来，我们查看sequence_xml的内容："
   ]
  },
  {
   "cell_type": "code",
   "execution_count": 8,
   "metadata": {
    "ExecuteTime": {
     "end_time": "2019-05-18T16:11:30.765907Z",
     "start_time": "2019-05-18T16:11:30.755904Z"
    },
    "collapsed": false
   },
   "outputs": [
    {
     "name": "stdout",
     "output_type": "stream",
     "text": [
      "id: \"/id/musicxml/example-musicxml/b916b4d6787e8de96484206b4c617879add937ce\"\n",
      "filename: \"Dataset\\\\raw\\\\example-musicxml\\\\bwv1.6.mxl\"\n",
      "collection_name: \"example-musicxml\"\n",
      "ticks_per_quarter: 220\n",
      "time_signatures {\n",
      "  numerator: 4\n",
      "  denominator: 4\n",
      "}\n",
      "time_signatures {\n",
      "  time: 38.5\n",
      "  numerator: 3\n",
      "  denominator: 4\n",
      "}\n",
      "time_signatures {\n",
      "  numerator: 1\n",
      "  denominator: 4\n",
      "}\n",
      "time_signatures {\n",
      "  time: 0.5\n",
      "  numerator: 4\n",
      "  denominator: 4\n",
      "}\n",
      "key_signatures {\n",
      "  key: F\n",
      "}\n",
      "tempos {\n",
      "  qpm: 120.0\n",
      "}\n",
      "notes {\n",
      "  pitch: 65\n",
      "  velocity: 64\n",
      "  end_time: 0.5\n",
      "  numerator: 1\n",
      "  denominator: 4\n",
      "  instrument: 7\n",
      "  program: 1\n",
      "  voice: 1\n",
      "}\n",
      "notes {\n",
      "  pitch: 67\n",
      "  velocity: 64\n",
      "  start_time: 0.5\n",
      "  end_time: 0.75\n",
      "  numerator: 1\n",
      "  denominator: 8\n",
      "  instrument: 7\n",
      "  program: 1\n",
      "  voice: 1\n",
      "}\n",
      "notes {\n",
      "  pitch: 60\n",
      "  velocity: 64\n",
      "  start_time: 0.75\n",
      "  end_time: 1.0\n",
      "  numerator: 1\n",
      "  denominator: 8\n",
      "  instrument: 7\n",
      "  program: 1\n",
      "  voice: 1\n",
      "}\n",
      "notes {\n",
      "  pitch: 65\n",
      "  velocity: 64\n",
      "  start_time: 1.0\n",
      "  end_time: 1.25\n",
      "  numerator: 1\n",
      "  denominator: 8\n",
      "  instrum\n"
     ]
    }
   ],
   "source": [
    "print(str(sequence_xml)[:1000])"
   ]
  },
  {
   "cell_type": "markdown",
   "metadata": {},
   "source": [
    "从上面我们可以看到这里面包含了路径、id、以及xml中的内容。数据格式很像MusicXML与MIDI的结合，但将它们以类的形式结构化储存了。\n",
    "\n",
    "于是，我们也可以直接访问它的子类："
   ]
  },
  {
   "cell_type": "code",
   "execution_count": 9,
   "metadata": {
    "ExecuteTime": {
     "end_time": "2019-05-18T16:11:30.775909Z",
     "start_time": "2019-05-18T16:11:30.767907Z"
    },
    "collapsed": false
   },
   "outputs": [
    {
     "name": "stdout",
     "output_type": "stream",
     "text": [
      "/id/musicxml/example-musicxml/b916b4d6787e8de96484206b4c617879add937ce\n",
      "Dataset\\raw\\example-musicxml\\bwv1.6.mxl\n",
      "source_type: SCORE_BASED\n",
      "encoding_type: MUSIC_XML\n",
      "parser: MAGENTA_MUSIC_XML\n",
      "\n",
      "40.0\n"
     ]
    }
   ],
   "source": [
    "print(sequence_xml.id)\n",
    "print(sequence_xml.filename)\n",
    "print(sequence_xml.source_info)\n",
    "print(sequence_xml.total_time)"
   ]
  },
  {
   "cell_type": "code",
   "execution_count": 10,
   "metadata": {
    "ExecuteTime": {
     "end_time": "2019-05-18T16:11:30.785911Z",
     "start_time": "2019-05-18T16:11:30.776910Z"
    },
    "collapsed": false
   },
   "outputs": [
    {
     "name": "stdout",
     "output_type": "stream",
     "text": [
      "<class 'google.protobuf.pyext._message.RepeatedCompositeContainer'>\n"
     ]
    }
   ],
   "source": [
    "print(type(sequence_xml.notes))"
   ]
  },
  {
   "cell_type": "markdown",
   "metadata": {},
   "source": [
    "`sequence_xml`的`notes`类里面就是最主要的内容了，`notes`记录了所有的音符。\n",
    "音符类当然也支持索引，我们可以看到每个音符由音高、音色、起始时间、终止时间等元素组成。"
   ]
  },
  {
   "cell_type": "code",
   "execution_count": 11,
   "metadata": {
    "ExecuteTime": {
     "end_time": "2019-05-18T16:11:30.795914Z",
     "start_time": "2019-05-18T16:11:30.786912Z"
    },
    "collapsed": false
   },
   "outputs": [
    {
     "name": "stdout",
     "output_type": "stream",
     "text": [
      "pitch: 65\n",
      "velocity: 64\n",
      "end_time: 0.5\n",
      "numerator: 1\n",
      "denominator: 4\n",
      "instrument: 7\n",
      "program: 1\n",
      "voice: 1\n",
      "\n",
      "pitch: 70\n",
      "velocity: 64\n",
      "start_time: 5.0\n",
      "end_time: 5.25\n",
      "numerator: 1\n",
      "denominator: 8\n",
      "instrument: 7\n",
      "program: 1\n",
      "voice: 1\n",
      "\n",
      "pitch: 71\n",
      "velocity: 64\n",
      "start_time: 7.0\n",
      "end_time: 7.5\n",
      "numerator: 1\n",
      "denominator: 4\n",
      "instrument: 7\n",
      "program: 1\n",
      "voice: 1\n",
      "\n"
     ]
    }
   ],
   "source": [
    "print(sequence_xml.notes[0])\n",
    "print(sequence_xml.notes[20])\n",
    "print(sequence_xml.notes[30])"
   ]
  },
  {
   "cell_type": "markdown",
   "metadata": {},
   "source": [
    "接下来，我们查看MIDI文件的转换结果："
   ]
  },
  {
   "cell_type": "code",
   "execution_count": 12,
   "metadata": {
    "ExecuteTime": {
     "end_time": "2019-05-18T16:11:30.967458Z",
     "start_time": "2019-05-18T16:11:30.797914Z"
    },
    "collapsed": false
   },
   "outputs": [
    {
     "name": "stdout",
     "output_type": "stream",
     "text": [
      "INFO:tensorflow:Converted MIDI file Dataset\\raw\\example-midi\\Bwv0525 Sonate en trio n1.mid.\n"
     ]
    }
   ],
   "source": [
    "full_file_path_midi = r'Dataset\\raw\\example-midi\\Bwv0525 Sonate en trio n1.mid'\n",
    "root_dir_midi = r'Dataset\\raw\\example-midii'\n",
    "sub_dir_midi = r'Dataset\\raw\\example-midi'\n",
    "sequence_midi = cvrt.convert_midi(root_dir_midi, sub_dir_midi,\n",
    "                                  full_file_path_midi)"
   ]
  },
  {
   "cell_type": "code",
   "execution_count": 13,
   "metadata": {
    "ExecuteTime": {
     "end_time": "2019-05-18T16:11:30.999466Z",
     "start_time": "2019-05-18T16:11:30.968459Z"
    },
    "collapsed": false
   },
   "outputs": [
    {
     "name": "stdout",
     "output_type": "stream",
     "text": [
      "id: \"/id/midi/example-midii/eaec1aa71ccd1892886c79883c24a044c480a2ef\"\n",
      "filename: \"Dataset\\\\raw\\\\example-midi\\\\Bwv0525 Sonate en trio n1.mid\"\n",
      "collection_name: \"example-midii\"\n",
      "ticks_per_quarter: 480\n",
      "time_signatures {\n",
      "  numerator: 4\n",
      "  denominator: 4\n",
      "}\n",
      "time_signatures {\n",
      "  time: 187.07416394583333\n",
      "  numerator: 12\n",
      "  denominator: 8\n",
      "}\n",
      "time_signatures {\n",
      "  time: 562.6120114458334\n",
      "  numerator: 3\n",
      "  denominator: 4\n",
      "}\n",
      "tempos {\n",
      "  qpm: 75.0\n",
      "}\n",
      "tempos {\n",
      "  time: 179.20000000000002\n",
      "  qpm: 70.00007000007\n",
      "}\n",
      "tempos {\n",
      "  time: 182.62856800000003\n",
      "  qpm: 65.000065000065\n",
      "}\n",
      "tempos {\n",
      "  time: 184.47472000000002\n",
      "  qpm: 50.0\n",
      "}\n",
      "tempos {\n",
      "  time: 185.07972\n",
      "  qpm: 45.000011250002814\n",
      "}\n",
      "tempos {\n",
      "  time: 187.07416394583333\n",
      "  qpm: 120.0\n",
      "}\n",
      "tempos {\n",
      "  time: 189.32416394583333\n",
      "  qpm: 55.000004583333705\n",
      "}\n",
      "tempos {\n",
      "  time: 554.7786789458335\n",
      "  qpm: 45.000011250002814\n",
      "}\n",
      "tempos {\n",
      "  time: 558.1120114458334\n",
      "  qpm: 80.0\n",
      "}\n",
      "tempos {\n",
      "  time: 848.3620114458334\n",
      "  qpm: 50.0\n",
      "}\n",
      "notes {\n",
      "  pitch: 70\n",
      "  velocity: 92\n",
      "  start_time: 6.4\n",
      "  end_time: 6.80\n"
     ]
    }
   ],
   "source": [
    "print(str(sequence_midi)[:1000])"
   ]
  },
  {
   "cell_type": "code",
   "execution_count": 14,
   "metadata": {
    "ExecuteTime": {
     "end_time": "2019-05-18T16:11:31.009469Z",
     "start_time": "2019-05-18T16:11:31.000466Z"
    },
    "collapsed": false
   },
   "outputs": [
    {
     "name": "stdout",
     "output_type": "stream",
     "text": [
      "/id/midi/example-midii/eaec1aa71ccd1892886c79883c24a044c480a2ef\n",
      "Dataset\\raw\\example-midi\\Bwv0525 Sonate en trio n1.mid\n",
      "encoding_type: MIDI\n",
      "parser: PRETTY_MIDI\n",
      "\n",
      "851.9745114458334\n"
     ]
    }
   ],
   "source": [
    "print(sequence_midi.id)\n",
    "print(sequence_midi.filename)\n",
    "print(sequence_midi.source_info)\n",
    "print(sequence_midi.total_time)"
   ]
  },
  {
   "cell_type": "code",
   "execution_count": 15,
   "metadata": {
    "ExecuteTime": {
     "end_time": "2019-05-18T16:11:31.020470Z",
     "start_time": "2019-05-18T16:11:31.011614Z"
    },
    "collapsed": false
   },
   "outputs": [
    {
     "name": "stdout",
     "output_type": "stream",
     "text": [
      "pitch: 70\n",
      "velocity: 92\n",
      "start_time: 6.4\n",
      "end_time: 6.800000000000001\n",
      "\n",
      "pitch: 72\n",
      "velocity: 92\n",
      "start_time: 12.8\n",
      "end_time: 13.200000000000001\n",
      "\n",
      "pitch: 74\n",
      "velocity: 92\n",
      "start_time: 16.0\n",
      "end_time: 16.400000000000002\n",
      "\n"
     ]
    }
   ],
   "source": [
    "print(sequence_midi.notes[0])\n",
    "print(sequence_midi.notes[20])\n",
    "print(sequence_midi.notes[30])"
   ]
  },
  {
   "cell_type": "markdown",
   "metadata": {
    "collapsed": true
   },
   "source": [
    "我们看到，MIDI形式的储存格式和XML大同小异，但是由于MusicXML是用相对最小单位计时，而MIDI中是以绝对时间（秒）计时，MIDI中的起始和终止的时间不是整数。并且，MIDI转换而来的notes中元素更少，这是因为MIDI中包含了更少的信息。"
   ]
  },
  {
   "cell_type": "markdown",
   "metadata": {},
   "source": [
    "## 总结\n",
    "通过本文，我们研究了Magenta项目原始数据整合的过程，并介绍了读取MIDI和XML的函数。在原始音乐数据整合的过程中，Magenta将不同格式的数据转换到了一个接近MusicXML的统一格式中统一存储。\n",
    "\n",
    "如果你想进行自己的项目的话，直接用Magenta的数据处理函数也是个不错的选择。Magenta中还有用于处理数据间转换的模块Piplines，见<https://github.com/tensorflow/magenta/blob/master/magenta/pipelines>，但是文档有些难懂。\n",
    "\n",
    "## 其他\n",
    "使用其他Python库读取并处理MIDI与MusicXML文件的方法，见：\n",
    "\n",
    "MIDI文件以及XML文件的格式介绍，见：\n",
    "\n",
    "对生成的tfrecord的读取，见下一节："
   ]
  }
 ],
 "metadata": {
  "anaconda-cloud": {},
  "kernelspec": {
   "display_name": "magenta",
   "language": "python",
   "name": "magenta"
  },
  "language_info": {
   "codemirror_mode": {
    "name": "ipython",
    "version": 3
   },
   "file_extension": ".py",
   "mimetype": "text/x-python",
   "name": "python",
   "nbconvert_exporter": "python",
   "pygments_lexer": "ipython3",
   "version": "3.6.8"
  },
  "varInspector": {
   "cols": {
    "lenName": 16,
    "lenType": 16,
    "lenVar": 40
   },
   "kernels_config": {
    "python": {
     "delete_cmd_postfix": "",
     "delete_cmd_prefix": "del ",
     "library": "var_list.py",
     "varRefreshCmd": "print(var_dic_list())"
    },
    "r": {
     "delete_cmd_postfix": ") ",
     "delete_cmd_prefix": "rm(",
     "library": "var_list.r",
     "varRefreshCmd": "cat(var_dic_list()) "
    }
   },
   "types_to_exclude": [
    "module",
    "function",
    "builtin_function_or_method",
    "instance",
    "_Feature"
   ],
   "window_display": false
  }
 },
 "nbformat": 4,
 "nbformat_minor": 1
}
