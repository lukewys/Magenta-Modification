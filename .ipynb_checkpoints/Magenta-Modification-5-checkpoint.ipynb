{
 "cells": [
  {
   "cell_type": "markdown",
   "metadata": {},
   "source": [
    "在Magenta的项目中，数据处理的流程大多都是先定义好一些配置，将配置转换为通用的配置参数变量，再带入统一的函数中处理。`melody_rnn_create_dataset.py`也不例外。在`melody_rnn_create_dataset.py`源代码中不难看出，先在`config = melody_rnn_config_flags.config_from_flags()`定义好了配置，再代入了统一的pipline：`  pipeline.run_pipeline_serial(\n",
    "      pipeline_instance,\n",
    "      pipeline.tf_record_iterator(FLAGS.input, pipeline_instance.input_type),\n",
    "      FLAGS.output_dir)`"
   ]
  },
  {
   "cell_type": "markdown",
   "metadata": {},
   "source": [
    "```python\n",
    "        loss = tf.reduce_mean(softmax_cross_entropy)\n",
    "        perplexity = tf.exp(loss)\n",
    "        accuracy = tf.reduce_mean(correct_predictions)\n",
    "        event_accuracy = (\n",
    "            tf.reduce_sum(correct_predictions * event_positions) /\n",
    "            tf.reduce_sum(event_positions))\n",
    "        no_event_accuracy = (\n",
    "            tf.reduce_sum(correct_predictions * no_event_positions) /\n",
    "            tf.reduce_sum(no_event_positions))\n",
    "\n",
    "        loss_per_step = tf.reduce_sum(softmax_cross_entropy) / num_steps\n",
    "        perplexity_per_step = tf.exp(loss_per_step)\n",
    "\n",
    "        optimizer = tf.train.AdamOptimizer(learning_rate=hparams.learning_rate)\n",
    "        train_op = tf.contrib.slim.learning.create_train_op(\n",
    "            loss, optimizer, clip_gradient_norm=hparams.clip_norm) #生成OP\n",
    "        tf.add_to_collection('train_op', train_op)\n",
    "```"
   ]
  },
  {
   "cell_type": "code",
   "execution_count": null,
   "metadata": {
    "collapsed": true
   },
   "outputs": [],
   "source": []
  }
 ],
 "metadata": {
  "anaconda-cloud": {},
  "kernelspec": {
   "display_name": "Python [conda env:magenta]",
   "language": "python",
   "name": "conda-env-magenta-py"
  },
  "language_info": {
   "codemirror_mode": {
    "name": "ipython",
    "version": 3
   },
   "file_extension": ".py",
   "mimetype": "text/x-python",
   "name": "python",
   "nbconvert_exporter": "python",
   "pygments_lexer": "ipython3",
   "version": "3.6.8"
  },
  "varInspector": {
   "cols": {
    "lenName": 16,
    "lenType": 16,
    "lenVar": 40
   },
   "kernels_config": {
    "python": {
     "delete_cmd_postfix": "",
     "delete_cmd_prefix": "del ",
     "library": "var_list.py",
     "varRefreshCmd": "print(var_dic_list())"
    },
    "r": {
     "delete_cmd_postfix": ") ",
     "delete_cmd_prefix": "rm(",
     "library": "var_list.r",
     "varRefreshCmd": "cat(var_dic_list()) "
    }
   },
   "types_to_exclude": [
    "module",
    "function",
    "builtin_function_or_method",
    "instance",
    "_Feature"
   ],
   "window_display": false
  }
 },
 "nbformat": 4,
 "nbformat_minor": 1
}
